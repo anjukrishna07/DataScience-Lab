{
  "nbformat": 4,
  "nbformat_minor": 0,
  "metadata": {
    "colab": {
      "provenance": [],
      "authorship_tag": "ABX9TyO1yt9vaAUY/bEBZl6s24NV",
      "include_colab_link": true
    },
    "kernelspec": {
      "name": "python3",
      "display_name": "Python 3"
    },
    "language_info": {
      "name": "python"
    }
  },
  "cells": [
    {
      "cell_type": "markdown",
      "metadata": {
        "id": "view-in-github",
        "colab_type": "text"
      },
      "source": [
        "<a href=\"https://colab.research.google.com/github/anjukrishna07/DataScience-Lab/blob/main/untitled0.ipynb\" target=\"_parent\"><img src=\"https://colab.research.google.com/assets/colab-badge.svg\" alt=\"Open In Colab\"/></a>"
      ]
    },
    {
      "cell_type": "code",
      "execution_count": null,
      "metadata": {
        "colab": {
          "base_uri": "https://localhost:8080/"
        },
        "id": "wRK0ywQUHHZx",
        "outputId": "03051a81-1b38-49a9-ca12-4a7d16807e77"
      },
      "outputs": [
        {
          "output_type": "stream",
          "name": "stdout",
          "text": [
            "One dimensional array a =  [1 2 3]\n",
            "Two dimensional array b =  [[1 2 3]\n",
            " [4 5 6]]\n",
            "Size of the array:  (3,)\n",
            "Element at indices 0,1,2 :  1 2 3\n",
            "Array after changing the element at index 0 :  [5 2 3]\n",
            "An array of all ones :  [[1. 1.]]\n",
            "A constant array :  [[7 7]\n",
            " [7 7]]\n",
            "A 2*2 identity matrix :  [[1. 0.]\n",
            " [0. 1.]]\n",
            "An array with random values :  [[0.84058353 0.93944193]\n",
            " [0.91529424 0.69917355]]\n"
          ]
        }
      ],
      "source": [
        "import numpy as np\n",
        "a = np.array([1, 2, 3]) # Create a rank 1 array\n",
        "print(\"One dimensional array a = \",a)\n",
        "b = np.array([[1,2,3],[4,5,6]])\n",
        "print(\"Two dimensional array b = \",b)\n",
        "print(\"Size of the array: \",a.shape)\n",
        "print(\"Element at indices 0,1,2 : \",a[0], a[1], a[2])\n",
        "a[0] = 5 # Change an element of the array\n",
        "print(\"Array after changing the element at index 0 : \",a)\n",
        "a = np.zeros((2,2)) # Create an array of all zeros print(\"An array of all zeros : \",a)\n",
        "b = np.ones((1,2)) # Create an array of all ones\n",
        "print(\"An array of all ones : \",b)\n",
        "c = np.full((2,2), 7) # Create a constant array\n",
        "print(\"A constant array : \",c)\n",
        "d = np.eye (2) # Create a 2x2 identity matrix\n",
        "print(\"A 2*2 identity matrix : \",d)\n",
        "e = np.random.random((2,2)) # Create an array filled with random values\n",
        "print(\"An array with random values : \",e)"
      ]
    }
  ]
}