{
  "nbformat": 4,
  "nbformat_minor": 0,
  "metadata": {
    "colab": {
      "provenance": [],
      "authorship_tag": "ABX9TyPa5XsRSrJ+jDkhMLKlmAJX",
      "include_colab_link": true
    },
    "kernelspec": {
      "name": "python3",
      "display_name": "Python 3"
    },
    "language_info": {
      "name": "python"
    }
  },
  "cells": [
    {
      "cell_type": "markdown",
      "metadata": {
        "id": "view-in-github",
        "colab_type": "text"
      },
      "source": [
        "<a href=\"https://colab.research.google.com/github/anjukrishna07/DataScience-Lab/blob/main/Untitled1.ipynb\" target=\"_parent\"><img src=\"https://colab.research.google.com/assets/colab-badge.svg\" alt=\"Open In Colab\"/></a>"
      ]
    },
    {
      "cell_type": "code",
      "execution_count": 1,
      "metadata": {
        "colab": {
          "base_uri": "https://localhost:8080/"
        },
        "id": "wzAs-Wx9Kq0s",
        "outputId": "6cdfcb10-3063-4b81-ce4d-c120b1eb15ba"
      },
      "outputs": [
        {
          "output_type": "stream",
          "name": "stdout",
          "text": [
            "Array indexing: slicing\n",
            "a1 =  [[ 1  2  3  4]\n",
            " [ 5  6  7  8]\n",
            " [ 9 10 11 12]]\n",
            "Subarray consisting of first two rows and columns 1 and 2:  [[2 3]\n",
            " [6 7]]\n",
            "Subarray consists of second row:  [[5 6 7 8]]\n",
            "Accessing columns: \n",
            "[ 2  6 10] (3,)\n",
            "[[ 2]\n",
            " [ 6]\n",
            " [10]] (3, 1)\n",
            "Array integer indexing: \n",
            "a2 =  [[1 2]\n",
            " [3 4]\n",
            " [5 6]]\n",
            "Example of array integer indexing:  [1 4 5]\n",
            "[2 2]\n",
            "a3 =  [[ 1  2  3]\n",
            " [ 4  5  6]\n",
            " [ 7  8  9]\n",
            " [10 11 12]]\n",
            "b =  [0 2 0 1]\n",
            "a3 [ 1  6  7 11]\n",
            "a3 =  [[11  2  3]\n",
            " [ 4  5 16]\n",
            " [17  8  9]\n",
            " [10 21 12]]\n",
            "Boolean array indexing: \n",
            "a =  [[1 2]\n",
            " [3 4]\n",
            " [5 6]]\n",
            "Elements greater than 2:  [3 4 5 6]\n"
          ]
        }
      ],
      "source": [
        "import numpy as np\n",
        "print(\"Array indexing: slicing\")\n",
        "\n",
        "a1 = np.array([[1,2,3,4], [5,6,7,8], [9,10,11,12]])\n",
        "\n",
        "print(\"a1 = \",a1)\n",
        "\n",
        "b = a1[:2, 1:3]\n",
        "print(\"Subarray consisting of first two rows and columns 1 and 2: \",b)\n",
        "\n",
        "b=a1[1:2,:]\n",
        "\n",
        "print(\"Subarray consists of second row: \",b)\n",
        "print(\"Accessing columns: \")\n",
        "\n",
        "b=a1[:,1]\n",
        "\n",
        "print(b,b.shape)\n",
        "\n",
        "c=a1[:,1:2]\n",
        "\n",
        "print(c,c.shape)\n",
        "print(\"Array integer indexing: \")\n",
        "\n",
        "a2 = np.array([[1,2], [3, 4], [5, 6]])\n",
        "\n",
        "print(\"a2 = \",a2)\n",
        "\n",
        "print(\"Example of array integer indexing: \",a2[[0, 1, 2], [0, 1, 0]])\n",
        "\n",
        "# When using integer array indexing, you can reuse the same element from the source\n",
        "\n",
        "#array\n",
        "\n",
        "print(a2[[0, 0], [1, 1]])\n",
        "\n",
        "# Equivalent to the previous integer array indexing example print(np.array([a2[0, 1], a[0, 1]]))\n",
        "\n",
        "a3= a = np.array([[1,2,3], [4,5,6], [7,8,9], [10, 11, 12]])\n",
        "\n",
        "print(\"a3 = \",a3)\n",
        "\n",
        "# Create an array of indices\n",
        "\n",
        "b = np.array([0, 2, 0, 1])\n",
        "print(\"b = \",b)\n",
        "\n",
        "# Select one element from each row of a using the indices in b\n",
        "\n",
        "print(\"a3\",a3[np.arange(4), b]) # Mutate one element from each row of a using the indices in b\n",
        "\n",
        "a3[np.arange(4), b] += 10\n",
        "\n",
        "print(\"a3 = \",a3)\n",
        "\n",
        "print(\"Boolean array indexing: \")\n",
        "\n",
        "a = np.array([[1,2], [3, 4], [5, 6]])\n",
        "\n",
        "print(\"a = \",a)\n",
        "\n",
        "bool_idx= (a > 2)\n",
        "\n",
        "print(\"Elements greater than 2: \",a[bool_idx])"
      ]
    }
  ]
}